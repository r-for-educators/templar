{
  "cells": [
    {
      "cell_type": "raw",
      "metadata": {},
      "source": [
        "---\n",
        "title: Welcome to Quarto!\n",
        "author: YOUR NAME HERE\n",
        "format:\n",
        "  html:\n",
        "    code-fold: true\n",
        "    code-line-numbers: true\n",
        "    code-tools: true\n",
        "editor: visual\n",
        "---"
      ]
    },
    {
      "cell_type": "code",
      "metadata": {},
      "source": [
        "#| label: libraries-py\n",
        "#| include: false\n",
        "import matplotlib.pyplot as plt"
      ],
      "execution_count": null,
      "outputs": []
    },
    {
      "cell_type": "markdown",
      "metadata": {},
      "source": [
        "1.  Write the names of your group members below, as a bullet point list.\n",
        "\n",
        "2.  Find something that all of you enjoy for fun. Insert a related picture or meme below.\n",
        "\n",
        "\n",
        "\n",
        "\n",
        "3.  Everyone decide your comfort level on a scale of 1-10 in python, and your favorite colors from [this](https://matplotlib.org/stable/gallery/color/named_colors.html) list.\n",
        "\n",
        "Edit the code below so that it has your names and corresponding comfort levels. \n"
      ]
    },
    {
      "cell_type": "code",
      "metadata": {},
      "source": [
        "#| label: group_info-py\n",
        "group_data = {\n",
        "  'names': [\"Person 1\", \"Person 2\", \"Person 3\", \"Person 4\"], \n",
        "  'colors': [\"goldenrod\", \"goldenrod\", \"goldenrod\", \"goldenrod\"],\n",
        "  'comfort': [1, 3, 10, 5]\n",
        "  }"
      ],
      "execution_count": null,
      "outputs": []
    },
    {
      "cell_type": "markdown",
      "metadata": {},
      "source": [
        "4.  Click \"Render\" and see the plot that is produced.\n",
        "\n",
        "(Do not edit the code chunk below!)\n"
      ]
    },
    {
      "cell_type": "code",
      "metadata": {},
      "source": [
        "#| label: plot-py\n",
        "#| fig-cap: \"Our comfort levels with python\"\n",
        "plt.bar(x = group_data['names'], height = group_data['comfort'], color = group_data['colors'])\n",
        "plt.ylabel(\"Comfort with python\")\n",
        "plt.show()"
      ],
      "execution_count": null,
      "outputs": []
    }
  ],
  "metadata": {
    "kernelspec": {
      "name": "python3",
      "language": "python",
      "display_name": "Python 3 (ipykernel)"
    }
  },
  "nbformat": 4,
  "nbformat_minor": 4
}